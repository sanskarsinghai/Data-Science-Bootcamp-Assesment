{
  "nbformat": 4,
  "nbformat_minor": 0,
  "metadata": {
    "colab": {
      "name": "Array.ipynb",
      "provenance": []
    },
    "kernelspec": {
      "name": "python3",
      "display_name": "Python 3"
    },
    "language_info": {
      "name": "python"
    }
  },
  "cells": [
    {
      "cell_type": "markdown",
      "source": [
        "**Array**"
      ],
      "metadata": {
        "id": "P2OVCsVlapGd"
      }
    },
    {
      "cell_type": "markdown",
      "source": [
        "1). Write a Python program to create an array of 5 integers and display the array items.\n",
        "Access individual element through indexes."
      ],
      "metadata": {
        "id": "YTlwYJ-7arzR"
      }
    },
    {
      "cell_type": "code",
      "execution_count": null,
      "metadata": {
        "colab": {
          "base_uri": "https://localhost:8080/"
        },
        "id": "PvLMK3leaj1s",
        "outputId": "030c6afd-b566-4abd-c9a3-8e5378355f93"
      },
      "outputs": [
        {
          "output_type": "stream",
          "name": "stdout",
          "text": [
            "2\n",
            "15\n",
            "23\n",
            "39\n",
            "43\n"
          ]
        }
      ],
      "source": [
        "l=[2,15,23,39,43]\n",
        "\n",
        "for i in range(len(l)):\n",
        "  print(l[i])"
      ]
    },
    {
      "cell_type": "markdown",
      "source": [
        "2). Write a Python program to reverse the order of the items in the array."
      ],
      "metadata": {
        "id": "ValJxrF9bCPX"
      }
    },
    {
      "cell_type": "code",
      "source": [
        "l=[2,15,23,39,43]\n",
        "\n",
        "l.reverse()\n",
        "\n",
        "print(l)"
      ],
      "metadata": {
        "colab": {
          "base_uri": "https://localhost:8080/"
        },
        "id": "IU2PCowhbGam",
        "outputId": "5fa26d58-656e-4cf5-ebd5-4810e0d95567"
      },
      "execution_count": null,
      "outputs": [
        {
          "output_type": "stream",
          "name": "stdout",
          "text": [
            "[43, 39, 23, 15, 2]\n"
          ]
        }
      ]
    },
    {
      "cell_type": "markdown",
      "source": [
        "3). Write a Python program to get the number of occurrences of a specified element in an\n",
        "array.\n"
      ],
      "metadata": {
        "id": "CoOHLg6VbYTE"
      }
    },
    {
      "cell_type": "code",
      "source": [
        "l=list(map(int,input().split()))\n",
        "s=int(input())\n",
        "\n",
        "f=0\n",
        "\n",
        "for i in l:\n",
        "  if i==s:\n",
        "    f+=1\n",
        "print(f)"
      ],
      "metadata": {
        "colab": {
          "base_uri": "https://localhost:8080/"
        },
        "id": "ZF4TMYapbinA",
        "outputId": "f393f4ed-f6ed-43c6-8d2e-e0951b231749"
      },
      "execution_count": null,
      "outputs": [
        {
          "output_type": "stream",
          "name": "stdout",
          "text": [
            "2 5 6 1 2 8 9 2 4\n",
            "2\n",
            "3\n"
          ]
        }
      ]
    },
    {
      "cell_type": "markdown",
      "source": [
        "4). Write a Python program to remove the first occurrence of a specified element from an\n",
        "array."
      ],
      "metadata": {
        "id": "St2ipV8rcEWN"
      }
    },
    {
      "cell_type": "code",
      "source": [
        "l=list(map(int,input().split()))\n",
        "s=int(input())\n",
        "\n",
        "l.remove(s)\n",
        "\n",
        "print(l)"
      ],
      "metadata": {
        "colab": {
          "base_uri": "https://localhost:8080/"
        },
        "id": "HJZLxelpcI5v",
        "outputId": "b04c2c93-7258-4d76-ef6e-ffcc063e47f7"
      },
      "execution_count": null,
      "outputs": [
        {
          "output_type": "stream",
          "name": "stdout",
          "text": [
            "2 5 6 1 2 8 9 2 4\n",
            "2\n",
            "[5, 6, 1, 2, 8, 9, 2, 4]\n"
          ]
        }
      ]
    }
  ]
}