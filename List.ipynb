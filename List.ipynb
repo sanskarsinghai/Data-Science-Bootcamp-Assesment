{
  "nbformat": 4,
  "nbformat_minor": 0,
  "metadata": {
    "colab": {
      "name": "List.ipynb",
      "provenance": [],
      "collapsed_sections": []
    },
    "kernelspec": {
      "name": "python3",
      "display_name": "Python 3"
    },
    "language_info": {
      "name": "python"
    }
  },
  "cells": [
    {
      "cell_type": "markdown",
      "source": [
        "**List**"
      ],
      "metadata": {
        "id": "V0N-vShGvGJb"
      }
    },
    {
      "cell_type": "markdown",
      "source": [
        "1). Write a Python program to sum all the items in a list."
      ],
      "metadata": {
        "id": "dRGZBROHvJIn"
      }
    },
    {
      "cell_type": "code",
      "execution_count": null,
      "metadata": {
        "colab": {
          "base_uri": "https://localhost:8080/"
        },
        "id": "CJs76pKhvBRA",
        "outputId": "54007d49-2853-43c5-922f-45b1841a1e39"
      },
      "outputs": [
        {
          "output_type": "stream",
          "name": "stdout",
          "text": [
            "160\n"
          ]
        }
      ],
      "source": [
        "l=[2,5,6,7,15,13,25,11,15,22,39]\n",
        "\n",
        "print(sum(l))"
      ]
    },
    {
      "cell_type": "markdown",
      "source": [
        "2). Write a Python program to multiplies all the items in a list."
      ],
      "metadata": {
        "id": "HfrIhaaXvaAM"
      }
    },
    {
      "cell_type": "code",
      "source": [
        "l=[2,5,6,7,15,13,25,11,15,22,39]\n",
        "m=1\n",
        "for i in l:\n",
        "  m*=i\n",
        "print(m)"
      ],
      "metadata": {
        "colab": {
          "base_uri": "https://localhost:8080/"
        },
        "id": "1NKE5wWrvdwy",
        "outputId": "9f99063c-8614-4a8d-aa25-c099d084def8"
      },
      "execution_count": null,
      "outputs": [
        {
          "output_type": "stream",
          "name": "stdout",
          "text": [
            "289864575000\n"
          ]
        }
      ]
    },
    {
      "cell_type": "markdown",
      "source": [
        "3). Write a Python program to get the smallest number from a list."
      ],
      "metadata": {
        "id": "fWpAEP-LvsGc"
      }
    },
    {
      "cell_type": "code",
      "source": [
        "l=[2,5,6,7,15,13,25,11,15,22,39]\n",
        "\n",
        "print(\"Smallest number =\",min(l))"
      ],
      "metadata": {
        "colab": {
          "base_uri": "https://localhost:8080/"
        },
        "id": "wLJGRyETvwyt",
        "outputId": "17633bea-97cf-46fa-e713-0eb959255bf5"
      },
      "execution_count": null,
      "outputs": [
        {
          "output_type": "stream",
          "name": "stdout",
          "text": [
            "Smallest number = 2\n"
          ]
        }
      ]
    },
    {
      "cell_type": "markdown",
      "source": [
        "4). Write a Python program to count the number of strings where the string length\n",
        "is 2 or more and the first and last character are same from a given list of strings.\n",
        "\n",
        "Sample List : ['abc', 'xyz', 'aba', '1221']\n",
        "\n",
        "Expected Result : 2"
      ],
      "metadata": {
        "id": "ty6VVJWjwJwA"
      }
    },
    {
      "cell_type": "code",
      "source": [
        "l=['abc', 'xyz', 'aba', '1221','amit sharma','saas','t']\n",
        "c=0\n",
        "for i in l:\n",
        "  if len(i)>1 and i[0]==i[-1]:\n",
        "    c+=1\n",
        "print(c)"
      ],
      "metadata": {
        "colab": {
          "base_uri": "https://localhost:8080/"
        },
        "id": "mrbTkUnKwQFO",
        "outputId": "0c751c31-7f6b-41ce-9014-b80d9b84f4b4"
      },
      "execution_count": null,
      "outputs": [
        {
          "output_type": "stream",
          "name": "stdout",
          "text": [
            "4\n"
          ]
        }
      ]
    },
    {
      "cell_type": "markdown",
      "source": [
        "5). Write a Python program to get a list, sorted in increasing order by the last\n",
        "element in each tuple from a given list of non-empty tuples.\n",
        "\n",
        "Sample List : [(2, 5), (1, 2), (4, 4), (2, 3), (2, 1)]\n",
        "\n",
        "Expected Result : [(2, 1), (1, 2), (2, 3), (4, 4), (2, 5)]"
      ],
      "metadata": {
        "id": "QnRFmp1ew8H0"
      }
    },
    {
      "cell_type": "code",
      "source": [
        "l=[(2, 5), (1, 2), (4, 4), (2, 3), (2, 1)]\n",
        "\n",
        "l.sort(key=lambda i:i[-1])\n",
        "print(l)"
      ],
      "metadata": {
        "colab": {
          "base_uri": "https://localhost:8080/"
        },
        "id": "0ahnRL0UxBQK",
        "outputId": "563437c4-ed6c-4b68-e793-81063684a0fd"
      },
      "execution_count": null,
      "outputs": [
        {
          "output_type": "stream",
          "name": "stdout",
          "text": [
            "[(2, 1), (1, 2), (2, 3), (4, 4), (2, 5)]\n"
          ]
        }
      ]
    },
    {
      "cell_type": "markdown",
      "source": [
        "6). Write a Python program to remove duplicates from a list."
      ],
      "metadata": {
        "id": "OUYJznnux7nz"
      }
    },
    {
      "cell_type": "code",
      "source": [
        "l=[33,15,25,31,54,98,33,19,15,9,7,25]\n",
        "print(l)\n",
        "s=set(l)\n",
        "l=list(s)\n",
        "print(l)"
      ],
      "metadata": {
        "colab": {
          "base_uri": "https://localhost:8080/"
        },
        "id": "QP6fE4-ZyAWm",
        "outputId": "c79fea9c-a7c6-427c-be06-d3a3ecb7eaf8"
      },
      "execution_count": null,
      "outputs": [
        {
          "output_type": "stream",
          "name": "stdout",
          "text": [
            "[33, 15, 25, 31, 54, 98, 33, 19, 15, 9, 7, 25]\n",
            "[33, 98, 7, 9, 15, 19, 54, 25, 31]\n"
          ]
        }
      ]
    },
    {
      "cell_type": "markdown",
      "source": [
        "7). Write a Python program to clone or copy a list."
      ],
      "metadata": {
        "id": "PokiSihMyZwY"
      }
    },
    {
      "cell_type": "code",
      "source": [
        "l=[2,5,6,7,15,13,25,11,15,22,39]\n",
        "\n",
        "co=l.copy()\n",
        "\n",
        "print(co)"
      ],
      "metadata": {
        "colab": {
          "base_uri": "https://localhost:8080/"
        },
        "id": "_1Ivdjv3ydLi",
        "outputId": "c255e2ae-277a-4f73-87c5-14c9e50a562a"
      },
      "execution_count": null,
      "outputs": [
        {
          "output_type": "stream",
          "name": "stdout",
          "text": [
            "[2, 5, 6, 7, 15, 13, 25, 11, 15, 22, 39]\n"
          ]
        }
      ]
    },
    {
      "cell_type": "markdown",
      "source": [
        "8). Write a Python program to find the list of words that are longer than n from a\n",
        "given list of words."
      ],
      "metadata": {
        "id": "P6nMRDhIyvGL"
      }
    },
    {
      "cell_type": "code",
      "source": [
        "l=['abc', 'xyz', 'aba', '1221','amit sharma','saas','t']\n",
        "\n",
        "n=int(input())\n",
        "a=list()\n",
        "for i in l:\n",
        "  if len(i)>n:\n",
        "    a.append(i)\n",
        "\n",
        "print(a)"
      ],
      "metadata": {
        "colab": {
          "base_uri": "https://localhost:8080/"
        },
        "id": "rycd5hj9yykf",
        "outputId": "a792039f-66a5-435d-ac74-5350881cef88"
      },
      "execution_count": null,
      "outputs": [
        {
          "output_type": "stream",
          "name": "stdout",
          "text": [
            "3\n",
            "['1221', 'amit sharma', 'saas']\n"
          ]
        }
      ]
    },
    {
      "cell_type": "markdown",
      "source": [
        "9). Write a Python function that takes two lists and returns True if they have at\n",
        "least one common member.\n"
      ],
      "metadata": {
        "id": "YnmcDNmuzap9"
      }
    },
    {
      "cell_type": "code",
      "source": [
        "def common_member(l1,l2):\n",
        "  s1=set(l1)\n",
        "  s2=set(l2)\n",
        "  si=s1.intersection(s2)\n",
        "\n",
        "  if len(si)!=0:\n",
        "    return True\n",
        "  else:\n",
        "    return False\n",
        "\n",
        "l1=[\"Red\",\"Blue\",\"Green\"]\n",
        "l2=[\"Green\",\"Red\",\"Brown\"]\n",
        "\n",
        "print(common_member(l1,l2))"
      ],
      "metadata": {
        "colab": {
          "base_uri": "https://localhost:8080/"
        },
        "id": "bpzQBmsUzeHx",
        "outputId": "a81f3f1a-99c4-474b-e6b3-b5a3b9248f68"
      },
      "execution_count": null,
      "outputs": [
        {
          "output_type": "stream",
          "name": "stdout",
          "text": [
            "True\n"
          ]
        }
      ]
    },
    {
      "cell_type": "markdown",
      "source": [
        "10). Write a Python program to print a specified list after removing the 0th, 4th and\n",
        "5th elements.\n",
        "\n",
        "Sample List : ['Red', 'Green', 'White', 'Black', 'Pink', 'Yellow']\n",
        "\n",
        "Expected Output : ['Green', 'White', 'Black']\n"
      ],
      "metadata": {
        "id": "oTGo022I0Ur7"
      }
    },
    {
      "cell_type": "code",
      "source": [
        "l=['Red', 'Green', 'White', 'Black', 'Pink', 'Yellow']\n",
        "\n",
        "a=l[0]\n",
        "b=l[4]\n",
        "c=l[5]\n",
        "l.remove(a)\n",
        "l.remove(b)\n",
        "l.remove(c)\n",
        "\n",
        "print(l)"
      ],
      "metadata": {
        "colab": {
          "base_uri": "https://localhost:8080/"
        },
        "id": "Hr5erCdc0bND",
        "outputId": "175fe15b-4fb6-4582-a2c2-e62e3cd61c91"
      },
      "execution_count": null,
      "outputs": [
        {
          "output_type": "stream",
          "name": "stdout",
          "text": [
            "['Green', 'White', 'Black']\n"
          ]
        }
      ]
    },
    {
      "cell_type": "markdown",
      "source": [
        "11). Write a Python program to generate all permutations of a list in Python."
      ],
      "metadata": {
        "id": "8MqYwQhP04ex"
      }
    },
    {
      "cell_type": "code",
      "source": [
        "from itertools import permutations as p\n",
        "\n",
        "l=[33,15,25]\n",
        "\n",
        "pr=p(l)\n",
        "\n",
        "for i in pr:\n",
        "  print(i)"
      ],
      "metadata": {
        "colab": {
          "base_uri": "https://localhost:8080/"
        },
        "id": "IUPaedfd2CcD",
        "outputId": "9099c340-ca6c-4050-86b0-0beefbfcc917"
      },
      "execution_count": null,
      "outputs": [
        {
          "output_type": "stream",
          "name": "stdout",
          "text": [
            "(33, 15, 25)\n",
            "(33, 25, 15)\n",
            "(15, 33, 25)\n",
            "(15, 25, 33)\n",
            "(25, 33, 15)\n",
            "(25, 15, 33)\n"
          ]
        }
      ]
    },
    {
      "cell_type": "markdown",
      "source": [
        "12). Write a Python program to get the difference between the two lists.\n"
      ],
      "metadata": {
        "id": "SYAKmPuK1qBc"
      }
    },
    {
      "cell_type": "code",
      "source": [
        "l1=[\"Red\",\"Blue\",\"Green\"]\n",
        "l2=[\"Green\",\"Red\",\"Brown\"]\n",
        "\n",
        "s1=set(l1)\n",
        "s2=set(l2)\n",
        "\n",
        "s=s1.difference(s2)\n",
        "l=list(s)\n",
        "\n",
        "print(l)"
      ],
      "metadata": {
        "colab": {
          "base_uri": "https://localhost:8080/"
        },
        "id": "aihKix6B2GLQ",
        "outputId": "a0a269fb-2f13-4ccc-d903-5c0a18e40258"
      },
      "execution_count": null,
      "outputs": [
        {
          "output_type": "stream",
          "name": "stdout",
          "text": [
            "['Blue']\n"
          ]
        }
      ]
    },
    {
      "cell_type": "markdown",
      "source": [
        "13). Write a Python program to append a list to the second list."
      ],
      "metadata": {
        "id": "Uvr3xvnV2eK-"
      }
    },
    {
      "cell_type": "code",
      "source": [
        "l1=[\"Red\",\"Blue\",\"Green\"]\n",
        "l2=[\"Green\",\"Red\",\"Brown\"]\n",
        "\n",
        "for i in l1:\n",
        "  l2.append(i)\n",
        "print(l2)\n"
      ],
      "metadata": {
        "colab": {
          "base_uri": "https://localhost:8080/"
        },
        "id": "ALxbdfXb2h9p",
        "outputId": "1e6524e0-0cd9-4b66-8d4a-20d5a36e7c6f"
      },
      "execution_count": null,
      "outputs": [
        {
          "output_type": "stream",
          "name": "stdout",
          "text": [
            "['Green', 'Red', 'Brown', 'Red', 'Blue', 'Green']\n"
          ]
        }
      ]
    },
    {
      "cell_type": "markdown",
      "source": [
        "14). Write a python program to check whether two lists are circularly identical.\n"
      ],
      "metadata": {
        "id": "mKe2TtoX22n8"
      }
    },
    {
      "cell_type": "code",
      "source": [
        "l1=list(map(int,input().split()))\n",
        "l2=list(map(int,input().split()))\n",
        "\n",
        "f=0\n",
        "\n",
        "for i in range(0,len(l1)):\n",
        "  a=l1[i:]+l1[:i]\n",
        "  if a==l2:\n",
        "    f=1\n",
        "    break\n",
        "if f==1:\n",
        "  print(\"Given lists are circularly identical\")\n",
        "else:\n",
        "  print(\"Given lists are not circularly identical\")"
      ],
      "metadata": {
        "id": "WvNMdzHj26ba",
        "colab": {
          "base_uri": "https://localhost:8080/"
        },
        "outputId": "28c70204-6179-4453-a40e-47d10db99fb2"
      },
      "execution_count": 2,
      "outputs": [
        {
          "output_type": "stream",
          "name": "stdout",
          "text": [
            "9 8 2 6 1\n",
            "2 6 1 9 8\n",
            "Given lists are circularly identical\n"
          ]
        }
      ]
    },
    {
      "cell_type": "markdown",
      "source": [
        "15). Write a Python program to find common items from two lists.\n"
      ],
      "metadata": {
        "id": "X87ALPBX3CS4"
      }
    },
    {
      "cell_type": "code",
      "source": [
        "l1=[\"Red\",\"Blue\",\"Green\",\"Red\"]\n",
        "l2=[\"Green\",\"Red\",\"Brown\",\"Red\"]\n",
        "\n",
        "a=list()\n",
        "\n",
        "for i in l1:\n",
        "  if i in l2:\n",
        "    a.append(i)\n",
        "    l2.remove(i)\n",
        "print(a)"
      ],
      "metadata": {
        "colab": {
          "base_uri": "https://localhost:8080/"
        },
        "id": "GHgHGkuj3Gkr",
        "outputId": "e90bd709-b6dd-4463-b0d6-cf93185427d4"
      },
      "execution_count": null,
      "outputs": [
        {
          "output_type": "stream",
          "name": "stdout",
          "text": [
            "['Red', 'Green', 'Red']\n"
          ]
        }
      ]
    },
    {
      "cell_type": "markdown",
      "source": [
        "16). Write a Python program to split a list based on first character of word.\n"
      ],
      "metadata": {
        "id": "t4ZwaEcV3l7o"
      }
    },
    {
      "cell_type": "code",
      "source": [
        "l=['abc', 'xyz', 'aba', '1221','amit sharma','saas','t']\n",
        "\n",
        "s=input()\n",
        "a=list()\n",
        "for i in l:\n",
        "  a.append(i.split(s[0]))\n",
        "print(a)"
      ],
      "metadata": {
        "colab": {
          "base_uri": "https://localhost:8080/"
        },
        "id": "Tc82128z3qke",
        "outputId": "efe4ebea-c3c4-4e66-be36-2c4e71f03dcb"
      },
      "execution_count": null,
      "outputs": [
        {
          "output_type": "stream",
          "name": "stdout",
          "text": [
            "ankur\n",
            "[['', 'bc'], ['xyz'], ['', 'b', ''], ['1221'], ['', 'mit sh', 'rm', ''], ['s', '', 's'], ['t']]\n"
          ]
        }
      ]
    },
    {
      "cell_type": "markdown",
      "source": [
        "17). Write a Python program to remove duplicates from a list of lists.\n",
        "\n",
        "Sample list : [[10, 20], [40], [30, 56, 25], [10, 20], [33], [40]]\n",
        "\n",
        "New List : [[10, 20], [30, 56, 25], [33], [40]]\n"
      ],
      "metadata": {
        "id": "jr_BZGPe4Usr"
      }
    },
    {
      "cell_type": "code",
      "source": [
        "l=[[1,2,3],[2,4,6,8],[4,8,12],[2,4,6,8]]\n",
        "\n",
        "for i in l:\n",
        "  if l.count(i)>1:\n",
        "    l.remove(i)\n",
        "print(l)"
      ],
      "metadata": {
        "colab": {
          "base_uri": "https://localhost:8080/"
        },
        "id": "KMoNxS714Zom",
        "outputId": "0c5bef6e-fcd4-4d48-a04b-562afd5fc69f"
      },
      "execution_count": null,
      "outputs": [
        {
          "output_type": "stream",
          "name": "stdout",
          "text": [
            "[[1, 2, 3], [4, 8, 12], [2, 4, 6, 8]]\n"
          ]
        }
      ]
    }
  ]
}