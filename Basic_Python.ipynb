{
  "nbformat": 4,
  "nbformat_minor": 0,
  "metadata": {
    "colab": {
      "name": "Basic Python",
      "provenance": []
    },
    "kernelspec": {
      "name": "python3",
      "display_name": "Python 3"
    },
    "language_info": {
      "name": "python"
    }
  },
  "cells": [
    {
      "cell_type": "markdown",
      "source": [
        "**Basic Python**"
      ],
      "metadata": {
        "id": "mL_aIFFwHCiN"
      }
    },
    {
      "cell_type": "markdown",
      "source": [
        "1). Write a Python program which accepts the user's first and last name and prints them in\n",
        "reverse order with a space between them."
      ],
      "metadata": {
        "id": "ZH4-IJ54HQX8"
      }
    },
    {
      "cell_type": "code",
      "execution_count": null,
      "metadata": {
        "colab": {
          "base_uri": "https://localhost:8080/"
        },
        "id": "cg13-DbLHBEZ",
        "outputId": "e4af2c84-b09f-4f72-debe-660de4ceaafc"
      },
      "outputs": [
        {
          "output_type": "stream",
          "name": "stdout",
          "text": [
            "Sanskar\n",
            "Singhai\n",
            "Singhai Sanskar\n"
          ]
        }
      ],
      "source": [
        "first=input()\n",
        "last=input()\n",
        "\n",
        "print(last,first)"
      ]
    },
    {
      "cell_type": "markdown",
      "source": [
        "2). Write a Python program which accepts a sequence of comma-separated numbers from the\n",
        "user and generates a list and a tuple with those numbers.\n",
        "Sample data : 3, 5, 7, 23\n",
        "\n",
        "Output :\n",
        "\n",
        "List : ['3', ' 5', ' 7', ' 23']\n",
        "\n",
        "Tuple : ('3', ' 5', ' 7', ' 23')"
      ],
      "metadata": {
        "id": "Jpat34aJHcFX"
      }
    },
    {
      "cell_type": "code",
      "source": [
        "s=input()\n",
        "\n",
        "l=list()\n",
        "\n",
        "for i in s:\n",
        "  if i!=\",\":\n",
        "    l.append(i)\n",
        "    \n",
        "t=tuple(l)\n",
        "print(l)\n",
        "print(t)"
      ],
      "metadata": {
        "colab": {
          "base_uri": "https://localhost:8080/"
        },
        "id": "r59D2Q2zHiV4",
        "outputId": "bc40056b-4b0e-4683-85e0-ca3e71736a3a"
      },
      "execution_count": null,
      "outputs": [
        {
          "output_type": "stream",
          "name": "stdout",
          "text": [
            "3,5,7,23\n",
            "['3', '5', '7', '2', '3']\n",
            "('3', '5', '7', '2', '3')\n"
          ]
        }
      ]
    },
    {
      "cell_type": "markdown",
      "source": [
        "3). Write a Python program to display the first and last colours from the following list.\n",
        "\n",
        "color_list = [\"Red\",\"Green\",\"White\" ,\"Black\"]\n"
      ],
      "metadata": {
        "id": "uS3OUBfEIPG-"
      }
    },
    {
      "cell_type": "code",
      "source": [
        "l=list(input().split())\n",
        "\n",
        "print(l[0])\n",
        "print(l[-1])"
      ],
      "metadata": {
        "colab": {
          "base_uri": "https://localhost:8080/"
        },
        "id": "aEbf-HyJIWhe",
        "outputId": "ef472937-5e0f-467d-a203-9c5d4e2c59de"
      },
      "execution_count": null,
      "outputs": [
        {
          "output_type": "stream",
          "name": "stdout",
          "text": [
            "Red Green White Black\n",
            "Red\n",
            "Black\n"
          ]
        }
      ]
    },
    {
      "cell_type": "markdown",
      "source": [
        "7). Write a Python program to check whether a specified value is contained in a group of values.\n",
        "Test Data :\n",
        "\n",
        "3 -> [1, 5, 8, 3] : True\n",
        "\n",
        "-1 -> [1, 5, 8, 3] : False"
      ],
      "metadata": {
        "id": "P5yzjtvWRdph"
      }
    },
    {
      "cell_type": "code",
      "source": [
        "e=int(input())\n",
        "l=list(map(int,input().split()))\n",
        "f=0\n",
        "for i in l:\n",
        "  if i==e:\n",
        "    f=1\n",
        "    break\n",
        "if f==1:\n",
        "  print(True)\n",
        "else:\n",
        "  print(False)"
      ],
      "metadata": {
        "colab": {
          "base_uri": "https://localhost:8080/"
        },
        "id": "0z-VDCL3Rwwh",
        "outputId": "057a2256-0f9f-4c4a-b3ce-6e41b398e1d8"
      },
      "execution_count": null,
      "outputs": [
        {
          "output_type": "stream",
          "name": "stdout",
          "text": [
            "-1\n",
            "1 5 8 3\n",
            "False\n"
          ]
        }
      ]
    },
    {
      "cell_type": "markdown",
      "source": [
        "8). Write a Python program to create a histogram from a given list of integers."
      ],
      "metadata": {
        "id": "4L9NO7P1THwk"
      }
    },
    {
      "cell_type": "code",
      "source": [
        "import matplotlib.pyplot as plt\n",
        "\n",
        "x=list(map(int,input().split()))\n",
        "\n",
        "plt.hist(x)\n",
        "\n",
        "plt.show()"
      ],
      "metadata": {
        "colab": {
          "base_uri": "https://localhost:8080/",
          "height": 282
        },
        "id": "jY7QFWLfTWRl",
        "outputId": "051ccd10-883b-402f-f7cf-a87bdaf0a26e"
      },
      "execution_count": null,
      "outputs": [
        {
          "name": "stdout",
          "output_type": "stream",
          "text": [
            "10 100 50 25 75\n"
          ]
        },
        {
          "output_type": "display_data",
          "data": {
            "text/plain": [
              "<Figure size 432x288 with 1 Axes>"
            ],
            "image/png": "[encoded data removed]"
          },
          "metadata": {
            "needs_background": "light"
          }
        }
      ]
    },
    {
      "cell_type": "markdown",
      "source": [
        "9). Write a Python program to concatenate all elements in a list into a string and return it.\n"
      ],
      "metadata": {
        "id": "fQsmXdmKVFOO"
      }
    },
    {
      "cell_type": "code",
      "source": [
        "l=list(input().split())\n",
        "\n",
        "s=''\n",
        "for i in l:\n",
        "  s+=i\n",
        "\n",
        "print(s)"
      ],
      "metadata": {
        "colab": {
          "base_uri": "https://localhost:8080/"
        },
        "id": "3loaTP8PVK9U",
        "outputId": "d34665fd-72f0-4007-d663-0947eb163e1c"
      },
      "execution_count": null,
      "outputs": [
        {
          "output_type": "stream",
          "name": "stdout",
          "text": [
            "S a n s k a r\n",
            "Sanskar\n"
          ]
        }
      ]
    },
    {
      "cell_type": "markdown",
      "source": [
        "10). Write a Python program to print out a set containing all the colors from color_list_1 which are\n",
        "not present in color_list_2.\n",
        "\n",
        "Test Data :\n",
        "\n",
        "color_list_1 = set([\"White\", \"Black\", \"Red\"])\n",
        "\n",
        "color_list_2 = set([\"Red\", \"Green\"])\n",
        "\n",
        "Expected Output :\n",
        "\n",
        "{'Black', 'White'}\n"
      ],
      "metadata": {
        "id": "8CaH1mXZVv77"
      }
    },
    {
      "cell_type": "code",
      "source": [
        "color_list_1=set(input().split())\n",
        "color_list_2=set(input().split())\n",
        "\n",
        "i=color_list_1.intersection(color_list_2)\n",
        "\n",
        "d=color_list_1.difference(color_list_2)\n",
        "\n",
        "print(d)"
      ],
      "metadata": {
        "colab": {
          "base_uri": "https://localhost:8080/"
        },
        "id": "PA-6iRiuWJGg",
        "outputId": "579e990a-67ff-4c01-ea07-55ef4caa2871"
      },
      "execution_count": null,
      "outputs": [
        {
          "output_type": "stream",
          "name": "stdout",
          "text": [
            "White Black Red\n",
            "Red Green\n",
            "{'White', 'Black'}\n"
          ]
        }
      ]
    },
    {
      "cell_type": "markdown",
      "source": [
        "13). Write a Python program to find out the number of CPUs using."
      ],
      "metadata": {
        "id": "Hd3KNY4RXEbl"
      }
    },
    {
      "cell_type": "code",
      "source": [
        "import multiprocessing\n",
        "print(multiprocessing.cpu_count())"
      ],
      "metadata": {
        "colab": {
          "base_uri": "https://localhost:8080/"
        },
        "id": "JCcYJEWUXNxc",
        "outputId": "4a95138d-93a8-4f0e-8c5a-abd0c1e3326d"
      },
      "execution_count": null,
      "outputs": [
        {
          "output_type": "stream",
          "name": "stdout",
          "text": [
            "2\n"
          ]
        }
      ]
    },
    {
      "cell_type": "markdown",
      "source": [
        "16). Write a Python program to get the current username.\n"
      ],
      "metadata": {
        "id": "awoQ-l1EXOGI"
      }
    },
    {
      "cell_type": "code",
      "source": [
        "import getpass\n",
        "print(getpass.getuser())\n"
      ],
      "metadata": {
        "colab": {
          "base_uri": "https://localhost:8080/"
        },
        "id": "tk7MkuOwXXmu",
        "outputId": "dff55673-39fa-413f-9cbe-41ba1e762218"
      },
      "execution_count": null,
      "outputs": [
        {
          "output_type": "stream",
          "name": "stdout",
          "text": [
            "root\n"
          ]
        }
      ]
    },
    {
      "cell_type": "markdown",
      "source": [
        "20). Write a Python program to sort three integers without using conditional statements and\n",
        "loops."
      ],
      "metadata": {
        "id": "4S-LBgltXX4u"
      }
    },
    {
      "cell_type": "code",
      "source": [
        "a=int(input())\n",
        "b=int(input())\n",
        "c=int(input())\n",
        "\n",
        "l=list([a,b,c])\n",
        "l.sort()\n",
        "print(l)"
      ],
      "metadata": {
        "colab": {
          "base_uri": "https://localhost:8080/"
        },
        "id": "PutbNv4dXdfg",
        "outputId": "9fd6f99e-3c35-4670-e600-6e7c94b05fd7"
      },
      "execution_count": null,
      "outputs": [
        {
          "output_type": "stream",
          "name": "stdout",
          "text": [
            "21\n",
            "19\n",
            "43\n",
            "[19, 21, 43]\n"
          ]
        }
      ]
    },
    {
      "cell_type": "markdown",
      "source": [
        "26). Write a Python program to count the number occurrence of a specific character in a string."
      ],
      "metadata": {
        "id": "WJN9MzilXd1o"
      }
    },
    {
      "cell_type": "code",
      "source": [
        "s=input()\n",
        "c=input()\n",
        "\n",
        "f=0\n",
        "\n",
        "for i in s:\n",
        "  if i.lower()==c.lower():\n",
        "    f+=1\n",
        "\n",
        "print(f)"
      ],
      "metadata": {
        "colab": {
          "base_uri": "https://localhost:8080/"
        },
        "id": "F9-kINsoXhpY",
        "outputId": "84cce9a9-586f-4a3c-990c-8fc3cf5af6aa"
      },
      "execution_count": null,
      "outputs": [
        {
          "output_type": "stream",
          "name": "stdout",
          "text": [
            "Sanskar\n",
            "e\n",
            "0\n"
          ]
        }
      ]
    },
    {
      "cell_type": "markdown",
      "source": [
        "29). Write a Python program to get the name of the host on which the routine is running."
      ],
      "metadata": {
        "id": "hFvm5UiOXh9K"
      }
    },
    {
      "cell_type": "code",
      "source": [
        "import socket\n",
        "host_name = socket.gethostname()\n",
        "print(\"Host name:\", host_name)"
      ],
      "metadata": {
        "colab": {
          "base_uri": "https://localhost:8080/"
        },
        "id": "fWgZjQ-fXmMT",
        "outputId": "76843508-a102-4865-a8af-f3d1ba2f4877"
      },
      "execution_count": null,
      "outputs": [
        {
          "output_type": "stream",
          "name": "stdout",
          "text": [
            "Host name: 9466786d5262\n"
          ]
        }
      ]
    }
  ]
}