{
  "nbformat": 4,
  "nbformat_minor": 0,
  "metadata": {
    "colab": {
      "name": "Sets.ipynb",
      "provenance": [],
      "collapsed_sections": []
    },
    "kernelspec": {
      "name": "python3",
      "display_name": "Python 3"
    },
    "language_info": {
      "name": "python"
    }
  },
  "cells": [
    {
      "cell_type": "markdown",
      "source": [
        "**Sets**"
      ],
      "metadata": {
        "id": "_2oCLDo5r4u_"
      }
    },
    {
      "cell_type": "markdown",
      "source": [
        "1). Write a Python program to create a set.\n"
      ],
      "metadata": {
        "id": "xPn8UYUwr7n0"
      }
    },
    {
      "cell_type": "code",
      "execution_count": null,
      "metadata": {
        "colab": {
          "base_uri": "https://localhost:8080/"
        },
        "id": "FPHvizMer0V4",
        "outputId": "96cb094e-f890-449b-db9a-8c78ea3784f4"
      },
      "outputs": [
        {
          "output_type": "stream",
          "name": "stdout",
          "text": [
            "{1, 2, 3, 5, 6, 7, 8}\n",
            "<class 'set'>\n"
          ]
        }
      ],
      "source": [
        "s={2,3,5,2,1,5,7,8,6}\n",
        "\n",
        "print(s)\n",
        "print(type(s))"
      ]
    },
    {
      "cell_type": "markdown",
      "source": [
        "2). Write a Python program to iteration over sets."
      ],
      "metadata": {
        "id": "5867ouZXsH9n"
      }
    },
    {
      "cell_type": "code",
      "source": [
        "s={2,3,5,2,1,5,7,8,6}\n",
        "\n",
        "for i in s:\n",
        "  print(i)"
      ],
      "metadata": {
        "colab": {
          "base_uri": "https://localhost:8080/"
        },
        "id": "qXSekykjsNyn",
        "outputId": "08b63deb-138a-4b7a-d4fd-c04c1682f838"
      },
      "execution_count": null,
      "outputs": [
        {
          "output_type": "stream",
          "name": "stdout",
          "text": [
            "1\n",
            "2\n",
            "3\n",
            "5\n",
            "6\n",
            "7\n",
            "8\n"
          ]
        }
      ]
    },
    {
      "cell_type": "markdown",
      "source": [
        "3). Write a Python program to add member(s) in a set.\n"
      ],
      "metadata": {
        "id": "nYWGQUKGsVXw"
      }
    },
    {
      "cell_type": "code",
      "source": [
        "s={2,3,5,2,1,5,7,8,6}\n",
        "\n",
        "a=int(input())\n",
        "\n",
        "s.add(a)\n",
        "print(s)"
      ],
      "metadata": {
        "colab": {
          "base_uri": "https://localhost:8080/"
        },
        "id": "TgzjUs9usal-",
        "outputId": "579cfa79-0304-48e7-be77-5dee82a65815"
      },
      "execution_count": null,
      "outputs": [
        {
          "output_type": "stream",
          "name": "stdout",
          "text": [
            "10\n",
            "{1, 2, 3, 5, 6, 7, 8, 10}\n"
          ]
        }
      ]
    },
    {
      "cell_type": "markdown",
      "source": [
        "4). Write a Python program to remove item(s) from set"
      ],
      "metadata": {
        "id": "AHK75BLSsktn"
      }
    },
    {
      "cell_type": "code",
      "source": [
        "s={2,3,5,2,1,5,7,8,6}\n",
        "\n",
        "a=int(input())\n",
        "print(s)\n",
        "s.remove(a)\n",
        "print(s)"
      ],
      "metadata": {
        "colab": {
          "base_uri": "https://localhost:8080/"
        },
        "id": "pVOOt2JnsoJY",
        "outputId": "2d295f89-6a29-46a2-8713-818132eb3f01"
      },
      "execution_count": null,
      "outputs": [
        {
          "output_type": "stream",
          "name": "stdout",
          "text": [
            "2\n",
            "{1, 2, 3, 5, 6, 7, 8}\n",
            "{1, 3, 5, 6, 7, 8}\n"
          ]
        }
      ]
    },
    {
      "cell_type": "markdown",
      "source": [
        "5). Write a Python program to remove an item from a set if it is present in the set.\n"
      ],
      "metadata": {
        "id": "ZydpP64Usxj4"
      }
    },
    {
      "cell_type": "code",
      "source": [
        "s={2,3,5,2,1,5,7,8,6}\n",
        "\n",
        "a=int(input())\n",
        "print(s)\n",
        "\n",
        "if a in s:\n",
        "   s.remove(a)\n",
        "\n",
        "print(s)"
      ],
      "metadata": {
        "colab": {
          "base_uri": "https://localhost:8080/"
        },
        "id": "-5CDmoRbs1tD",
        "outputId": "7aa84dda-37d4-44a5-f826-a4eb7f20c124"
      },
      "execution_count": null,
      "outputs": [
        {
          "output_type": "stream",
          "name": "stdout",
          "text": [
            "10\n",
            "{1, 2, 3, 5, 6, 7, 8}\n",
            "{1, 2, 3, 5, 6, 7, 8}\n"
          ]
        }
      ]
    },
    {
      "cell_type": "markdown",
      "source": [
        "6). Write a Python program to create an intersection of sets.\n"
      ],
      "metadata": {
        "id": "TGgqLxeItJiq"
      }
    },
    {
      "cell_type": "code",
      "source": [
        "s1={\"Red\",\"Blue\",\"Green\"}\n",
        "s2={\"White\",\"Red\",\"Brown\"}\n",
        "\n",
        "s=s1.intersection(s2)\n",
        "print(s)"
      ],
      "metadata": {
        "colab": {
          "base_uri": "https://localhost:8080/"
        },
        "id": "R3kuc4I8tOst",
        "outputId": "e12581f0-6a10-4af4-a9bf-7c3f4548b3f1"
      },
      "execution_count": null,
      "outputs": [
        {
          "output_type": "stream",
          "name": "stdout",
          "text": [
            "{'Red'}\n"
          ]
        }
      ]
    },
    {
      "cell_type": "markdown",
      "source": [
        "7). Write a Python program to create a union of sets.\n"
      ],
      "metadata": {
        "id": "RQCTnhP-tfii"
      }
    },
    {
      "cell_type": "code",
      "source": [
        "s1={\"Red\",\"Blue\",\"Green\"}\n",
        "s2={\"White\",\"Red\",\"Brown\"}\n",
        "\n",
        "s=s1.union(s2)\n",
        "print(s)"
      ],
      "metadata": {
        "colab": {
          "base_uri": "https://localhost:8080/"
        },
        "id": "DwcsqV72tknE",
        "outputId": "2fe4b5e1-60cf-4270-a212-4fb1245523a8"
      },
      "execution_count": null,
      "outputs": [
        {
          "output_type": "stream",
          "name": "stdout",
          "text": [
            "{'Blue', 'Brown', 'White', 'Red', 'Green'}\n"
          ]
        }
      ]
    },
    {
      "cell_type": "markdown",
      "source": [
        "8). Write a Python program to create set difference.\n"
      ],
      "metadata": {
        "id": "Btw5mRBitohU"
      }
    },
    {
      "cell_type": "code",
      "source": [
        "s1={\"Red\",\"Blue\",\"Green\"}\n",
        "s2={\"White\",\"Red\",\"Brown\"}\n",
        "\n",
        "s=s1.difference(s2)\n",
        "print(s)"
      ],
      "metadata": {
        "colab": {
          "base_uri": "https://localhost:8080/"
        },
        "id": "MWjJFdLPttxA",
        "outputId": "ec0019e8-3fb6-4618-bec7-2b730fd00a29"
      },
      "execution_count": null,
      "outputs": [
        {
          "output_type": "stream",
          "name": "stdout",
          "text": [
            "{'Blue', 'Green'}\n"
          ]
        }
      ]
    },
    {
      "cell_type": "markdown",
      "source": [
        "9). Write a Python program to create a symmetric difference."
      ],
      "metadata": {
        "id": "GMI5SkCytx0R"
      }
    },
    {
      "cell_type": "code",
      "source": [
        "s1={\"Red\",\"Blue\",\"Green\"}\n",
        "s2={\"White\",\"Red\",\"Brown\"}\n",
        "\n",
        "s=s1.symmetric_difference(s2)\n",
        "print(s)"
      ],
      "metadata": {
        "colab": {
          "base_uri": "https://localhost:8080/"
        },
        "id": "j_WhOU5Pt18I",
        "outputId": "a276d389-f065-4b30-82c8-fed8845ef6ed"
      },
      "execution_count": null,
      "outputs": [
        {
          "output_type": "stream",
          "name": "stdout",
          "text": [
            "{'Blue', 'Green', 'Brown', 'White'}\n"
          ]
        }
      ]
    },
    {
      "cell_type": "markdown",
      "source": [
        "10). Write a Python program to clear a set.\n"
      ],
      "metadata": {
        "id": "g_G6qV02uH0A"
      }
    },
    {
      "cell_type": "code",
      "source": [
        "s={\"Red\",\"Blue\",\"Green\"}\n",
        "\n",
        "print(s)\n",
        "\n",
        "s.clear()\n",
        "\n",
        "print(s)"
      ],
      "metadata": {
        "colab": {
          "base_uri": "https://localhost:8080/"
        },
        "id": "1JTpZUqKuMti",
        "outputId": "84174326-0860-4ded-a20b-957dd88ab425"
      },
      "execution_count": null,
      "outputs": [
        {
          "output_type": "stream",
          "name": "stdout",
          "text": [
            "{'Blue', 'Red', 'Green'}\n",
            "set()\n"
          ]
        }
      ]
    },
    {
      "cell_type": "markdown",
      "source": [
        "11). Write a Python program to use of frozensets."
      ],
      "metadata": {
        "id": "1A9L57L_uVYM"
      }
    },
    {
      "cell_type": "code",
      "source": [
        "s={\"Red\",\"Blue\",\"Green\"}\n",
        "\n",
        "print(frozenset(s))"
      ],
      "metadata": {
        "colab": {
          "base_uri": "https://localhost:8080/"
        },
        "id": "eCsqSn1iuZiF",
        "outputId": "807ec31e-594c-44f9-a4f9-2fb1deb18a9b"
      },
      "execution_count": null,
      "outputs": [
        {
          "output_type": "stream",
          "name": "stdout",
          "text": [
            "frozenset({'Blue', 'Red', 'Green'})\n"
          ]
        }
      ]
    },
    {
      "cell_type": "markdown",
      "source": [
        "12). Write a Python program to find maximum and the minimum value in a set.\n"
      ],
      "metadata": {
        "id": "unj5-qnIur7m"
      }
    },
    {
      "cell_type": "code",
      "source": [
        "s={2,3,5,2,1,5,7,8,6}\n",
        "\n",
        "print(\"Maximum element =\",max(s))\n",
        "print(\"Minimum element =\",min(s))"
      ],
      "metadata": {
        "colab": {
          "base_uri": "https://localhost:8080/"
        },
        "id": "t3fABaCmuwd-",
        "outputId": "042e0d56-9886-442f-83fb-37f4464014fd"
      },
      "execution_count": null,
      "outputs": [
        {
          "output_type": "stream",
          "name": "stdout",
          "text": [
            "Maximum element = 8\n",
            "Minimum element = 1\n"
          ]
        }
      ]
    }
  ]
}