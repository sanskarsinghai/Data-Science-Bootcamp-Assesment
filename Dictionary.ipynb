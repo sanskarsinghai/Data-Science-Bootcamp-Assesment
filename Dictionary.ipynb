{
  "nbformat": 4,
  "nbformat_minor": 0,
  "metadata": {
    "colab": {
      "name": "Dictionary.ipynb",
      "provenance": []
    },
    "kernelspec": {
      "name": "python3",
      "display_name": "Python 3"
    },
    "language_info": {
      "name": "python"
    }
  },
  "cells": [
    {
      "cell_type": "markdown",
      "source": [
        "**Dictionary**"
      ],
      "metadata": {
        "id": "sxxTO4TFdw1h"
      }
    },
    {
      "cell_type": "markdown",
      "source": [
        "1). Write a Python script to sort (ascending and descending) a dictionary by\n",
        "value."
      ],
      "metadata": {
        "id": "eVwxSnhMdzpg"
      }
    },
    {
      "cell_type": "code",
      "execution_count": null,
      "metadata": {
        "colab": {
          "base_uri": "https://localhost:8080/"
        },
        "id": "w0sa5kDJdljt",
        "outputId": "1fd77732-644a-4ec7-b84d-8bfe59158c8f"
      },
      "outputs": [
        {
          "output_type": "stream",
          "name": "stdout",
          "text": [
            "SanskarSinghai\n",
            "[('a', 3), ('g', 1), ('h', 1), ('i', 2), ('k', 1), ('n', 2), ('r', 1), ('s', 3)]\n",
            "[1, 1, 1, 1, 2, 2, 3, 3]\n",
            "[('s', 3), ('r', 1), ('n', 2), ('k', 1), ('i', 2), ('h', 1), ('g', 1), ('a', 3)]\n"
          ]
        }
      ],
      "source": [
        "s=input()\n",
        "d=dict()\n",
        "\n",
        "for i in s:\n",
        "  if i.lower() not in d:\n",
        "    d[i.lower()]=0\n",
        "  d[i.lower()]+=1\n",
        "\n",
        "print(sorted(d.items()))\n",
        "print(sorted(d.values()))\n",
        "print(sorted(d.items())[::-1])"
      ]
    },
    {
      "cell_type": "markdown",
      "source": [
        "2). Write a Python script to add a key to a dictionary.\n",
        "\n",
        "Sample Dictionary : {0: 10, 1: 20}\n",
        "\n",
        "Expected Result : {0: 10, 1: 20, 2: 30}"
      ],
      "metadata": {
        "id": "sk14Ti1dd8Uv"
      }
    },
    {
      "cell_type": "code",
      "source": [
        "d={0:10,1:20}\n",
        "\n",
        "k=int(input())\n",
        "v=int(input())\n",
        "\n",
        "d[k]=v\n",
        "\n",
        "print(d)"
      ],
      "metadata": {
        "colab": {
          "base_uri": "https://localhost:8080/"
        },
        "id": "RmlFaB4ReH49",
        "outputId": "06c3291a-8f77-4d75-cfe4-2dcf52d30195"
      },
      "execution_count": null,
      "outputs": [
        {
          "output_type": "stream",
          "name": "stdout",
          "text": [
            "2\n",
            "30\n",
            "{0: 10, 1: 20, 2: 30}\n"
          ]
        }
      ]
    },
    {
      "cell_type": "markdown",
      "source": [
        "3). Write a Python script to concatenate following dictionaries to create a new\n",
        "one.\n",
        "\n",
        "Sample Dictionary :\n",
        "\n",
        "dic1={1:10, 2:20}\n",
        "\n",
        "dic2={3:30, 4:40}\n",
        "\n",
        "dic3={5:50,6:60}\n",
        "\n",
        "Expected Result : {1: 10, 2: 20, 3: 30, 4: 40, 5: 50, 6: 60}"
      ],
      "metadata": {
        "id": "40Y1l5o2ecMY"
      }
    },
    {
      "cell_type": "code",
      "source": [
        "d1={1:10,2:20}\n",
        "d2={3:30,4:40}\n",
        "d3={5:50,6:60}\n",
        "\n",
        "d=dict()\n",
        "\n",
        "for i in d1.keys():\n",
        "  d[i]=d1[i]\n",
        "\n",
        "for i in d2.keys():\n",
        "  d[i]=d2[i]\n",
        "\n",
        "for i in d3.keys():\n",
        "  d[i]=d3[i]\n",
        "\n",
        "print(d)"
      ],
      "metadata": {
        "colab": {
          "base_uri": "https://localhost:8080/"
        },
        "id": "grqpb2YPejYX",
        "outputId": "d42dbcae-9388-4025-a7de-fc9d340855a4"
      },
      "execution_count": null,
      "outputs": [
        {
          "output_type": "stream",
          "name": "stdout",
          "text": [
            "{1: 10, 2: 20, 3: 30, 4: 40, 5: 50, 6: 60}\n"
          ]
        }
      ]
    },
    {
      "cell_type": "markdown",
      "source": [
        "4). Write a Python program to iterate over dictionaries using for loops."
      ],
      "metadata": {
        "id": "JKC8Qx6rfISQ"
      }
    },
    {
      "cell_type": "code",
      "source": [
        "d={1:10,2:20,3:30,4:40,5:50,6:60}\n",
        "\n",
        "for i in d.keys():\n",
        "  print(\"Key =\",i,\"Value =\",d[i])"
      ],
      "metadata": {
        "colab": {
          "base_uri": "https://localhost:8080/"
        },
        "id": "wQMnYL7AfUuK",
        "outputId": "872c44af-5e10-4134-8669-71a038a4f1f9"
      },
      "execution_count": null,
      "outputs": [
        {
          "output_type": "stream",
          "name": "stdout",
          "text": [
            "Key = 1 Value = 10\n",
            "Key = 2 Value = 20\n",
            "Key = 3 Value = 30\n",
            "Key = 4 Value = 40\n",
            "Key = 5 Value = 50\n",
            "Key = 6 Value = 60\n"
          ]
        }
      ]
    },
    {
      "cell_type": "markdown",
      "source": [
        "5). Write a Python script to generate and print a dictionary that contains a\n",
        "number (between 1 and n) in the form (x, x*x).\n",
        "\n",
        "Sample Dictionary ( n = 5) :\n",
        "\n",
        "Expected Output : {1: 1, 2: 4, 3: 9, 4: 16, 5: 25}"
      ],
      "metadata": {
        "id": "o7TgDQBmfsGF"
      }
    },
    {
      "cell_type": "code",
      "source": [
        "n=int(input())\n",
        "\n",
        "d=dict()\n",
        "\n",
        "for i in range(1,n+1):\n",
        "  d[i]=i*i\n",
        "\n",
        "print(d)"
      ],
      "metadata": {
        "colab": {
          "base_uri": "https://localhost:8080/"
        },
        "id": "rmzRKjSyf8VU",
        "outputId": "94545c4d-53ce-407e-a17f-713ee3b0a4da"
      },
      "execution_count": null,
      "outputs": [
        {
          "output_type": "stream",
          "name": "stdout",
          "text": [
            "5\n",
            "{1: 1, 2: 4, 3: 9, 4: 16, 5: 25}\n"
          ]
        }
      ]
    },
    {
      "cell_type": "markdown",
      "source": [
        "6). Write a Python program to remove a key from a dictionary."
      ],
      "metadata": {
        "id": "5gktad22gNhk"
      }
    },
    {
      "cell_type": "code",
      "source": [
        "d={1:10,2:20,3:30,4:40,5:50,6:60}\n",
        "\n",
        "r=int(input())\n",
        "\n",
        "d.pop(r)\n",
        "\n",
        "print(d)"
      ],
      "metadata": {
        "colab": {
          "base_uri": "https://localhost:8080/"
        },
        "id": "gTqAHZmJgTXd",
        "outputId": "1c85789d-5654-4480-e8b2-48da993a8c31"
      },
      "execution_count": null,
      "outputs": [
        {
          "output_type": "stream",
          "name": "stdout",
          "text": [
            "3\n",
            "{1: 10, 2: 20, 4: 40, 5: 50, 6: 60}\n"
          ]
        }
      ]
    },
    {
      "cell_type": "markdown",
      "source": [
        "7). Write a Python program to print all unique values in a dictionary.\n",
        "\n",
        "Sample Data : [{\"V\":\"S001\"}, {\"V\": \"S002\"}, {\"VI\": \"S001\"}, {\"VI\": \"S005\"},\n",
        "{\"VII\":\"S005\"}, {\"V\":\"S009\"},{\"VIII\":\"S007\"}]\n",
        "\n",
        "Expected Output : Unique Values: {'S005', 'S002', 'S007', 'S001', 'S009'}"
      ],
      "metadata": {
        "id": "X9JH5WfJgvo_"
      }
    },
    {
      "cell_type": "code",
      "source": [
        "l=[{\"V\":\"S001\"}, {\"V\": \"S002\"}, {\"VI\": \"S001\"}, {\"VI\": \"S005\"},\n",
        "{\"VII\":\"S005\"}, {\"V\":\"S009\"},{\"VIII\":\"S007\"}]\n",
        "\n",
        "v=set()\n",
        "\n",
        "for i in l:\n",
        "  v.add(*i.values())\n",
        "print(v)"
      ],
      "metadata": {
        "colab": {
          "base_uri": "https://localhost:8080/"
        },
        "id": "fg5AyCdUg1bj",
        "outputId": "f4f33f07-ea90-4e35-e630-8985a465d16a"
      },
      "execution_count": null,
      "outputs": [
        {
          "output_type": "stream",
          "name": "stdout",
          "text": [
            "{'S002', 'S005', 'S009', 'S007', 'S001'}\n"
          ]
        }
      ]
    },
    {
      "cell_type": "markdown",
      "source": [
        "8). Write a Python program to create a dictionary from a string.\n",
        "Note: Track the count of the letters from the string.\n",
        "\n",
        "Sample string : 'w3resource'\n",
        "\n",
        "Expected output: {'3': 1, 's': 1, 'r': 2, 'u': 1, 'w': 1, 'c': 1, 'e': 2, 'o': 1}"
      ],
      "metadata": {
        "id": "xAa8IntVhx9J"
      }
    },
    {
      "cell_type": "code",
      "source": [
        "s=input()\n",
        "\n",
        "d=dict()\n",
        "\n",
        "for i in s:\n",
        "  if i not in d.keys():\n",
        "    d[i]=0\n",
        "  d[i]+=1\n",
        "\n",
        "print(d)"
      ],
      "metadata": {
        "colab": {
          "base_uri": "https://localhost:8080/"
        },
        "id": "33l-TsVZiEWw",
        "outputId": "be65b207-65f3-49c3-ed12-f29eab4580ad"
      },
      "execution_count": null,
      "outputs": [
        {
          "output_type": "stream",
          "name": "stdout",
          "text": [
            "w3resource\n",
            "{'w': 1, '3': 1, 'r': 2, 'e': 2, 's': 1, 'o': 1, 'u': 1, 'c': 1}\n"
          ]
        }
      ]
    },
    {
      "cell_type": "markdown",
      "source": [
        "9). Write a Python program to print a dictionary in table format."
      ],
      "metadata": {
        "id": "NcBufA6yjZ2j"
      }
    },
    {
      "cell_type": "code",
      "source": [
        "d={1:10,2:20,3:30,4:40,5:50,6:60}\n",
        "\n",
        "print(\"Keys\\t\\tValues\")\n",
        "for i in d:\n",
        "  print(i,\"\\t\\t\",d[i])"
      ],
      "metadata": {
        "colab": {
          "base_uri": "https://localhost:8080/"
        },
        "id": "6i3lsG4IjgEo",
        "outputId": "bc1431c5-7ff3-47ee-eb8b-9c04cd84be43"
      },
      "execution_count": null,
      "outputs": [
        {
          "output_type": "stream",
          "name": "stdout",
          "text": [
            "Keys\t\tValues\n",
            "1 \t\t 10\n",
            "2 \t\t 20\n",
            "3 \t\t 30\n",
            "4 \t\t 40\n",
            "5 \t\t 50\n",
            "6 \t\t 60\n"
          ]
        }
      ]
    },
    {
      "cell_type": "markdown",
      "source": [
        "10). Write a Python program to count the values associated with key in a\n",
        "dictionary.\n",
        "\n",
        "Sample data: = [{'id': 1, 'success': True, 'name': 'Lary'}, {'id': 2, 'success':\n",
        "False, 'name': 'Rabi'}, {'id': 3, 'success': True, 'name': 'Alex'}]\n",
        "\n",
        "Expected result: Count of how many dictionaries have success as True"
      ],
      "metadata": {
        "id": "DQ3vlBDUkNxA"
      }
    },
    {
      "cell_type": "code",
      "source": [
        "d=[{'id': 1, 'success': True, 'name': 'Lary'}, {'id': 2, 'success':False, 'name': 'Rabi'}, {'id': 3, 'success': True, 'name': 'Alex'}]\n",
        "\n",
        "t=0\n",
        "\n",
        "for i in d:\n",
        "  if i['success']==True:\n",
        "    t+=1\n",
        "\n",
        "print(t)"
      ],
      "metadata": {
        "colab": {
          "base_uri": "https://localhost:8080/"
        },
        "id": "_YEhb9PlkVRO",
        "outputId": "ac4a17e5-901c-485b-81eb-2d8d30611f42"
      },
      "execution_count": null,
      "outputs": [
        {
          "output_type": "stream",
          "name": "stdout",
          "text": [
            "2\n"
          ]
        }
      ]
    },
    {
      "cell_type": "markdown",
      "source": [
        "11). Write a Python program to convert a list into a nested dictionary of keys."
      ],
      "metadata": {
        "id": "xH_Ibb2ck7hX"
      }
    },
    {
      "cell_type": "code",
      "source": [
        "l=[1,2,3,4,5]\n",
        "a=b={}\n",
        "for i in l:\n",
        "  a[i]={}\n",
        "  a=a[i]\n",
        "print(b)"
      ],
      "metadata": {
        "colab": {
          "base_uri": "https://localhost:8080/"
        },
        "id": "iWyiocOilABO",
        "outputId": "ca8803ae-bdb0-4c2a-96ff-bcfb8e346732"
      },
      "execution_count": null,
      "outputs": [
        {
          "output_type": "stream",
          "name": "stdout",
          "text": [
            "{1: {2: {3: {4: {5: {}}}}}}\n"
          ]
        }
      ]
    },
    {
      "cell_type": "markdown",
      "source": [
        "12). Write a Python program to check multiple keys exists in a dictionary."
      ],
      "metadata": {
        "id": "Z4GASdpdlGMZ"
      }
    },
    {
      "cell_type": "code",
      "source": [
        "d={2:3,1:2,2:4,3:6}\n",
        "k=int(input())\n",
        "\n",
        "if k in d.keys():\n",
        "  print(\"keys exist\")\n",
        "else:\n",
        "  print(\"keys not exist\")"
      ],
      "metadata": {
        "colab": {
          "base_uri": "https://localhost:8080/"
        },
        "id": "THPKs4xVlLWW",
        "outputId": "f2c2ccc3-0921-4634-f53a-91268794bfae"
      },
      "execution_count": null,
      "outputs": [
        {
          "output_type": "stream",
          "name": "stdout",
          "text": [
            "2\n",
            "keys exist\n"
          ]
        }
      ]
    },
    {
      "cell_type": "markdown",
      "source": [
        "13). Write a Python program to count number of items in a dictionary value\n",
        "that is a list."
      ],
      "metadata": {
        "id": "T1AdM65MlNJT"
      }
    },
    {
      "cell_type": "code",
      "source": [
        "d={1:1,2:[2,4],3:[3,6,9]}\n",
        "c=0\n",
        "for i in d:\n",
        "  if type(d[i])==list:\n",
        "    c+=len(d[i])\n",
        "print(c)"
      ],
      "metadata": {
        "colab": {
          "base_uri": "https://localhost:8080/"
        },
        "id": "pt5pwGq-lSOz",
        "outputId": "d3dadf74-3b6c-4c89-bf7e-3f2433a90bf3"
      },
      "execution_count": null,
      "outputs": [
        {
          "output_type": "stream",
          "name": "stdout",
          "text": [
            "5\n"
          ]
        }
      ]
    }
  ]
}