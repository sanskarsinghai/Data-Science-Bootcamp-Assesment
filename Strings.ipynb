{
  "nbformat": 4,
  "nbformat_minor": 0,
  "metadata": {
    "colab": {
      "name": "Strings.ipynb",
      "provenance": [],
      "collapsed_sections": []
    },
    "kernelspec": {
      "name": "python3",
      "display_name": "Python 3"
    },
    "language_info": {
      "name": "python"
    }
  },
  "cells": [
    {
      "cell_type": "markdown",
      "source": [
        "**Strings**"
      ],
      "metadata": {
        "id": "Jf721nue96N-"
      }
    },
    {
      "cell_type": "markdown",
      "source": [
        "1). Write a Python program to calculate the length of a string.\n"
      ],
      "metadata": {
        "id": "qAn56npK99Af"
      }
    },
    {
      "cell_type": "code",
      "execution_count": null,
      "metadata": {
        "colab": {
          "base_uri": "https://localhost:8080/"
        },
        "id": "7RVXD2TA91vv",
        "outputId": "f9a62c2c-8ed9-498c-8c01-090cd5034688"
      },
      "outputs": [
        {
          "output_type": "stream",
          "name": "stdout",
          "text": [
            "Sanskar Singhai\n",
            "15\n"
          ]
        }
      ],
      "source": [
        "s=input()\n",
        "c=0\n",
        "for i in s:\n",
        "  c+=1\n",
        "print(c)"
      ]
    },
    {
      "cell_type": "markdown",
      "source": [
        "2). Write a Python program to count the number of characters (character frequency) in a\n",
        "string.\n",
        "\n",
        "Sample String : google.com\n",
        "\n",
        "Expected Result : {'o': 3, 'g': 2, '.': 1, 'e': 1, 'l': 1, 'm': 1, 'c': 1}"
      ],
      "metadata": {
        "id": "fUkgPxUT-Ie8"
      }
    },
    {
      "cell_type": "code",
      "source": [
        "s=input()\n",
        "d=dict()\n",
        "\n",
        "for i in s:\n",
        "  if i.lower() not in d:\n",
        "    d[i.lower()]=0\n",
        "  d[i.lower()]+=1\n",
        "\n",
        "print(d)"
      ],
      "metadata": {
        "colab": {
          "base_uri": "https://localhost:8080/"
        },
        "id": "iPTYAXgA-3Zi",
        "outputId": "8eff4d41-a7a4-4505-ee8e-17de5d52a6b6"
      },
      "execution_count": null,
      "outputs": [
        {
          "output_type": "stream",
          "name": "stdout",
          "text": [
            "Sanskar Singhai\n",
            "{'s': 3, 'a': 3, 'n': 2, 'k': 1, 'r': 1, ' ': 1, 'i': 2, 'g': 1, 'h': 1}\n"
          ]
        }
      ]
    },
    {
      "cell_type": "markdown",
      "source": [
        "3). Write a Python program to get a string from a given string where all occurrences of its\n",
        "first char have been changed to '$', except the first char itself.\n",
        "\n",
        "Sample String : 'restart'\n",
        "\n",
        "Expected Result : 'resta$t'\n"
      ],
      "metadata": {
        "id": "ue5mX6VU_Yx_"
      }
    },
    {
      "cell_type": "code",
      "source": [
        "s=input()\n",
        "c=s[0]\n",
        "for i in range(1,len(s)):\n",
        "  if s[i].lower()==s[0].lower():\n",
        "    c+=\"$\"\n",
        "  else:\n",
        "    c+=s[i]\n",
        "print(c)"
      ],
      "metadata": {
        "colab": {
          "base_uri": "https://localhost:8080/"
        },
        "id": "aNWYHTMm_f3_",
        "outputId": "ec10c28f-7694-42bb-e610-5271b83f42db"
      },
      "execution_count": null,
      "outputs": [
        {
          "output_type": "stream",
          "name": "stdout",
          "text": [
            "Sanskar Singhai\n",
            "San$kar $inghai\n"
          ]
        }
      ]
    },
    {
      "cell_type": "markdown",
      "source": [
        "4). Write a Python program to add 'ing' at the end of a given string (length should be at\n",
        "least 3). If the given string already ends with 'ing' then add 'ly' instead. If the string length of the\n",
        "given string is less than 3, leave it unchanged.\n",
        "\n",
        "Sample String : 'abc'\n",
        "\n",
        "Expected Result : 'abcing'\n",
        "\n",
        "Sample String : 'string'\n",
        "\n",
        "Expected Result : 'stringly'"
      ],
      "metadata": {
        "id": "qXKywRoxAHVn"
      }
    },
    {
      "cell_type": "code",
      "source": [
        "s=input()\n",
        "\n",
        "if len(s)<3:\n",
        "  print(s)\n",
        "elif s[-3:]==\"ing\":\n",
        "  s+=\"ly\"\n",
        "  print(s)\n",
        "else:\n",
        "  s+=\"ing\"\n",
        "  print(s)"
      ],
      "metadata": {
        "colab": {
          "base_uri": "https://localhost:8080/"
        },
        "id": "8ktMZpxJAV3R",
        "outputId": "02e3d694-c673-4502-d5c6-8ac031110c2f"
      },
      "execution_count": null,
      "outputs": [
        {
          "output_type": "stream",
          "name": "stdout",
          "text": [
            "string\n",
            "stringly\n"
          ]
        }
      ]
    },
    {
      "cell_type": "markdown",
      "source": [
        "5). Write a Python function that takes a list of words and returns the length of the longest\n",
        "one.\n"
      ],
      "metadata": {
        "id": "B-nFxBXgBPA9"
      }
    },
    {
      "cell_type": "code",
      "source": [
        "def longest_length(l):\n",
        "  m=0\n",
        "  for i in l:\n",
        "    if len(i)>m:\n",
        "      m=len(i)\n",
        "  return m\n",
        "\n",
        "l=list(input().split())\n",
        "\n",
        "print(longest_length(l))"
      ],
      "metadata": {
        "colab": {
          "base_uri": "https://localhost:8080/"
        },
        "id": "5GJ5EDJaBUsF",
        "outputId": "3d0ef4b6-61ef-4bd2-cc89-7d5d293dfcff"
      },
      "execution_count": null,
      "outputs": [
        {
          "output_type": "stream",
          "name": "stdout",
          "text": [
            "abd ddas Sanskar Singhai jsh\n",
            "7\n"
          ]
        }
      ]
    },
    {
      "cell_type": "markdown",
      "source": [
        "6). Write a Python script that takes input from the user and displays that input back in\n",
        "upper and lower cases."
      ],
      "metadata": {
        "id": "tgO9iEB3B1wJ"
      }
    },
    {
      "cell_type": "code",
      "source": [
        "s=input()\n",
        "\n",
        "print(\"Upper Case :-\",s.upper())\n",
        "print(\"Lower Case :-\",s.lower())"
      ],
      "metadata": {
        "colab": {
          "base_uri": "https://localhost:8080/"
        },
        "id": "oAyaZOjXB7eB",
        "outputId": "35c8dc5e-58dc-4b1d-9247-77a75fe9b051"
      },
      "execution_count": null,
      "outputs": [
        {
          "output_type": "stream",
          "name": "stdout",
          "text": [
            "Sanskar Singhai\n",
            "Upper Case :- SANSKAR SINGHAI\n",
            "Lower Case :- sanskar singhai\n"
          ]
        }
      ]
    },
    {
      "cell_type": "markdown",
      "source": [
        "7). Write a Python program that accepts a comma separated sequence of words as input\n",
        "and prints the unique words in sorted form (alphanumerically).\n",
        "\n",
        "Sample Words : red, white, black, red, green, black\n",
        "\n",
        "Expected Result : black, green, red, white,red"
      ],
      "metadata": {
        "id": "lnqH2q-lC-iK"
      }
    },
    {
      "cell_type": "code",
      "source": [
        "l=list(input().split(\",\"))\n",
        "s=set(l)\n",
        "ul=list(s)\n",
        "\n",
        "ul.sort()\n",
        "print(*ul,sep=\", \")"
      ],
      "metadata": {
        "colab": {
          "base_uri": "https://localhost:8080/"
        },
        "id": "x8oAhSk2DEez",
        "outputId": "b679fe34-d625-413c-88b8-dc42d1ea65ae"
      },
      "execution_count": null,
      "outputs": [
        {
          "output_type": "stream",
          "name": "stdout",
          "text": [
            "red,white,black,red,green,black\n",
            "black, green, red, white\n"
          ]
        }
      ]
    },
    {
      "cell_type": "markdown",
      "source": [
        "8). Write a Python program to get the last part of a string before a specified character.\n",
        "\n",
        "https://www.w3resource.com/python-exercises\n",
        "\n",
        "https://www.w3resource.com/python\n"
      ],
      "metadata": {
        "id": "iEVkDoAsD8Vv"
      }
    },
    {
      "cell_type": "code",
      "source": [
        "s=input()\n",
        "a=\"abcdefghijklmnopqrstuvwxyz\"\n",
        "for i in range(len(s)-1,-1,-1):\n",
        "  if s[i].lower() not in a:\n",
        "    break\n",
        "\n",
        "print(s[:i])"
      ],
      "metadata": {
        "colab": {
          "base_uri": "https://localhost:8080/"
        },
        "id": "NM2CUinEEBUP",
        "outputId": "0be962ba-a58e-4169-d8d5-5b55c5c95792"
      },
      "execution_count": null,
      "outputs": [
        {
          "output_type": "stream",
          "name": "stdout",
          "text": [
            "https://www.w3resource.com/python-exercises\n",
            "https://www.w3resource.com/python\n"
          ]
        }
      ]
    },
    {
      "cell_type": "markdown",
      "source": [
        "9). Write a Python program to display formatted text (width=50) as output.\n"
      ],
      "metadata": {
        "id": "xoO7p8LMEtQM"
      }
    },
    {
      "cell_type": "code",
      "source": [
        "import textwrap\n",
        "\n",
        "s=input()\n",
        "print(textwrap.fill(s, width=50))"
      ],
      "metadata": {
        "colab": {
          "base_uri": "https://localhost:8080/"
        },
        "id": "S03sk0jIExFR",
        "outputId": "45187c89-cba1-4b59-f462-20105cd113e1"
      },
      "execution_count": null,
      "outputs": [
        {
          "output_type": "stream",
          "name": "stdout",
          "text": [
            "sanskar singhai\n",
            "sanskar singhai\n"
          ]
        }
      ]
    },
    {
      "cell_type": "markdown",
      "source": [
        "10). Write a Python program to count occurrences of a substring in a string."
      ],
      "metadata": {
        "id": "kAO1V1GUGByp"
      }
    },
    {
      "cell_type": "code",
      "source": [
        "s=input()\n",
        "su=list()\n",
        "for i in range(0,len(s)):\n",
        "  for j in range(i,len(s)):\n",
        "    su.append(s[i:j+1])\n",
        "\n",
        "se=set(su)\n",
        "for i in se:\n",
        "  print(i,\"occures\",su.count(i),\"times\")"
      ],
      "metadata": {
        "colab": {
          "base_uri": "https://localhost:8080/"
        },
        "id": "uiKCJxVSGF1e",
        "outputId": "5ce3828f-0b58-4bb8-c1be-951c0fc3d502"
      },
      "execution_count": null,
      "outputs": [
        {
          "output_type": "stream",
          "name": "stdout",
          "text": [
            "abba\n",
            "ab occures 1 times\n",
            "a occures 2 times\n",
            "bba occures 1 times\n",
            "bb occures 1 times\n",
            "abb occures 1 times\n",
            "ba occures 1 times\n",
            "b occures 2 times\n",
            "abba occures 1 times\n"
          ]
        }
      ]
    },
    {
      "cell_type": "markdown",
      "source": [
        "11). Write a Python program to reverse a string."
      ],
      "metadata": {
        "id": "ETNp2KI0HMYm"
      }
    },
    {
      "cell_type": "code",
      "source": [
        "s=input()\n",
        "\n",
        "c=\"\"\n",
        "for i in s:\n",
        "  c=i+c\n",
        "print(c)"
      ],
      "metadata": {
        "colab": {
          "base_uri": "https://localhost:8080/"
        },
        "id": "xXCMbGGrHRff",
        "outputId": "12910851-ade2-4742-8d32-ce05901d42b6"
      },
      "execution_count": null,
      "outputs": [
        {
          "output_type": "stream",
          "name": "stdout",
          "text": [
            "sanskar\n",
            "raksnas\n"
          ]
        }
      ]
    },
    {
      "cell_type": "markdown",
      "source": [
        "12). Write a Python program to lowercase first n characters in a string."
      ],
      "metadata": {
        "id": "YOxQzjpMHew9"
      }
    },
    {
      "cell_type": "code",
      "source": [
        "s=input()\n",
        "n=int(input())\n",
        "c=\"\"\n",
        "\n",
        "for i in range(0,len(s)):\n",
        "  if i<=n:\n",
        "    c+=s[i].lower()\n",
        "  else:\n",
        "    c+=s[i]\n",
        "print(c)"
      ],
      "metadata": {
        "colab": {
          "base_uri": "https://localhost:8080/"
        },
        "id": "-yCoWv-HHjTw",
        "outputId": "c8b1f582-03d5-439d-96f3-3af7e5f3adfa"
      },
      "execution_count": null,
      "outputs": [
        {
          "output_type": "stream",
          "name": "stdout",
          "text": [
            "SansKar\n",
            "3\n",
            "sansKar\n"
          ]
        }
      ]
    }
  ]
}