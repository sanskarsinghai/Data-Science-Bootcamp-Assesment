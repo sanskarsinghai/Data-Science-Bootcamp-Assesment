{
  "nbformat": 4,
  "nbformat_minor": 0,
  "metadata": {
    "colab": {
      "name": "Tuple.ipynb",
      "provenance": [],
      "collapsed_sections": []
    },
    "kernelspec": {
      "name": "python3",
      "display_name": "Python 3"
    },
    "language_info": {
      "name": "python"
    }
  },
  "cells": [
    {
      "cell_type": "markdown",
      "source": [
        "**Tuple**"
      ],
      "metadata": {
        "id": "E9R4Cu0W57QL"
      }
    },
    {
      "cell_type": "markdown",
      "source": [
        "1). Write a Python program to create a tuple."
      ],
      "metadata": {
        "id": "1zoRCtgr5_Uv"
      }
    },
    {
      "cell_type": "code",
      "execution_count": null,
      "metadata": {
        "colab": {
          "base_uri": "https://localhost:8080/"
        },
        "id": "ZdWUa0vR498o",
        "outputId": "b918ea99-8b74-4efa-8e29-6a42eaa0d966"
      },
      "outputs": [
        {
          "output_type": "stream",
          "name": "stdout",
          "text": [
            "(4, 5, 2, 6, 11, 17, 14, 15)\n",
            "<class 'tuple'>\n"
          ]
        }
      ],
      "source": [
        "t=(4,5,2,6,11,17,14,15)\n",
        "\n",
        "print(t)\n",
        "print(type(t))"
      ]
    },
    {
      "cell_type": "markdown",
      "source": [
        "2). Write a Python program to create a tuple with different data types."
      ],
      "metadata": {
        "id": "I_OcfyvP6Kya"
      }
    },
    {
      "cell_type": "code",
      "source": [
        "t=(2,'sanskar',\"singhai\",True,2.3,2)\n",
        "\n",
        "print(t)\n",
        "print(type(t))"
      ],
      "metadata": {
        "colab": {
          "base_uri": "https://localhost:8080/"
        },
        "id": "ui0TKk1_6Psb",
        "outputId": "0cc44d0c-0780-43c1-826c-65f833536320"
      },
      "execution_count": null,
      "outputs": [
        {
          "output_type": "stream",
          "name": "stdout",
          "text": [
            "(2, 'sanskar', 'singhai', True, 2.3, 2)\n",
            "<class 'tuple'>\n"
          ]
        }
      ]
    },
    {
      "cell_type": "markdown",
      "source": [
        "3). Write a Python program to unpack a tuple in several variables."
      ],
      "metadata": {
        "id": "vcw2Ky0C6d9j"
      }
    },
    {
      "cell_type": "code",
      "source": [
        "t=(1,2,3)\n",
        "a,b,c=t\n",
        "\n",
        "print(a)\n",
        "print(b)\n",
        "print(c)"
      ],
      "metadata": {
        "colab": {
          "base_uri": "https://localhost:8080/"
        },
        "id": "bwDlCyMN6izl",
        "outputId": "9b848ce8-cc54-4b21-d041-5e15ee5dbc59"
      },
      "execution_count": null,
      "outputs": [
        {
          "output_type": "stream",
          "name": "stdout",
          "text": [
            "1\n",
            "2\n",
            "3\n"
          ]
        }
      ]
    },
    {
      "cell_type": "markdown",
      "source": [
        "4). Write a Python program to create the colon of a tuple.\n"
      ],
      "metadata": {
        "id": "alG6PjMS6uGQ"
      }
    },
    {
      "cell_type": "code",
      "source": [
        "t=(4,5,2,6,11,17,14,15)\n",
        "\n",
        "co=t\n",
        "print(co)"
      ],
      "metadata": {
        "colab": {
          "base_uri": "https://localhost:8080/"
        },
        "id": "0J5ou7oD6x91",
        "outputId": "c6391362-bd34-43f9-ad2f-5d1256c73706"
      },
      "execution_count": null,
      "outputs": [
        {
          "output_type": "stream",
          "name": "stdout",
          "text": [
            "(4, 5, 2, 6, 11, 17, 14, 15)\n"
          ]
        }
      ]
    },
    {
      "cell_type": "markdown",
      "source": [
        "5). Write a Python program to find the repeated items of a tuple."
      ],
      "metadata": {
        "id": "xMrQTu357H2m"
      }
    },
    {
      "cell_type": "code",
      "source": [
        "t=tuple(input().split())\n",
        "s=set(t)\n",
        "\n",
        "for i in s:\n",
        "  if t.count(i)>1:\n",
        "    print(i)"
      ],
      "metadata": {
        "colab": {
          "base_uri": "https://localhost:8080/"
        },
        "id": "D1bP_HbD7LHp",
        "outputId": "c555f771-14f8-47e7-f5fb-077c840ca9e0"
      },
      "execution_count": null,
      "outputs": [
        {
          "output_type": "stream",
          "name": "stdout",
          "text": [
            "11 16 12 22 11 21 45 16 27 21\n",
            "16\n",
            "21\n",
            "11\n"
          ]
        }
      ]
    },
    {
      "cell_type": "markdown",
      "source": [
        "6). Write a Python program to check whether an element exists within a tuple."
      ],
      "metadata": {
        "id": "A-skc6wd7tqg"
      }
    },
    {
      "cell_type": "code",
      "source": [
        "t=tuple(input().split())\n",
        "s=input()\n",
        "\n",
        "if s in t:\n",
        "  print(\"Exist\")\n",
        "else:\n",
        "  print(\"Not exist\")"
      ],
      "metadata": {
        "colab": {
          "base_uri": "https://localhost:8080/"
        },
        "id": "LY8vxM_u7yPL",
        "outputId": "5b1fbc42-7ac3-4e82-af42-c0ed308a82f3"
      },
      "execution_count": null,
      "outputs": [
        {
          "output_type": "stream",
          "name": "stdout",
          "text": [
            "11 16 12 22 11 21 45 16 27 21\n",
            "22\n",
            "Exist\n"
          ]
        }
      ]
    },
    {
      "cell_type": "markdown",
      "source": [
        "7). Write a Python program to convert a list to a tuple."
      ],
      "metadata": {
        "id": "cq7qQb0w8GqM"
      }
    },
    {
      "cell_type": "code",
      "source": [
        "l=list(input().split())\n",
        "t=tuple(l)\n",
        "print(type(l))\n",
        "print(t)\n",
        "print(type(t))"
      ],
      "metadata": {
        "colab": {
          "base_uri": "https://localhost:8080/"
        },
        "id": "quuVOEPb8LO1",
        "outputId": "ac7ecd40-086f-49f6-e0a8-819378e971ab"
      },
      "execution_count": null,
      "outputs": [
        {
          "output_type": "stream",
          "name": "stdout",
          "text": [
            "11 16 12 22 11 21 45 16 27 21\n",
            "<class 'list'>\n",
            "('11', '16', '12', '22', '11', '21', '45', '16', '27', '21')\n",
            "<class 'tuple'>\n"
          ]
        }
      ]
    },
    {
      "cell_type": "markdown",
      "source": [
        "8). Write a Python program to remove an item from a tuple."
      ],
      "metadata": {
        "id": "k9YEfuLb8fkK"
      }
    },
    {
      "cell_type": "code",
      "source": [
        "t=tuple(input().split())\n",
        "r=input()\n",
        "\n",
        "l=list(t)\n",
        "l.remove(r)\n",
        "a=tuple(l)\n",
        "\n",
        "print(a)"
      ],
      "metadata": {
        "colab": {
          "base_uri": "https://localhost:8080/"
        },
        "id": "LHQ-vOsE8jXT",
        "outputId": "f0b80ccf-f169-4fd4-f1ae-8b0385b802fd"
      },
      "execution_count": null,
      "outputs": [
        {
          "output_type": "stream",
          "name": "stdout",
          "text": [
            "11 16 12 22 11 21 45 16 27 21\n",
            "12\n",
            "('11', '16', '22', '11', '21', '45', '16', '27', '21')\n"
          ]
        }
      ]
    },
    {
      "cell_type": "markdown",
      "source": [
        "9). Write a Python program to slice a tuple."
      ],
      "metadata": {
        "id": "MzMpUtst87zR"
      }
    },
    {
      "cell_type": "code",
      "source": [
        "t=tuple(input().split())\n",
        "\n",
        "print(t[:2])\n",
        "print(t[2:])"
      ],
      "metadata": {
        "colab": {
          "base_uri": "https://localhost:8080/"
        },
        "id": "x2cdY6Pg9B2U",
        "outputId": "447bb0b0-1271-4782-c0e2-52e8ccc7f393"
      },
      "execution_count": null,
      "outputs": [
        {
          "output_type": "stream",
          "name": "stdout",
          "text": [
            "11 16 12 22 11 21 45 16 27 21\n",
            "('11', '16')\n",
            "('12', '22', '11', '21', '45', '16', '27', '21')\n"
          ]
        }
      ]
    },
    {
      "cell_type": "markdown",
      "source": [
        "10). Write a Python program to reverse a tuple."
      ],
      "metadata": {
        "id": "JzoQmgpA9SAF"
      }
    },
    {
      "cell_type": "code",
      "source": [
        "t=tuple(input().split())\n",
        "\n",
        "print(t[::-1])"
      ],
      "metadata": {
        "colab": {
          "base_uri": "https://localhost:8080/"
        },
        "id": "1g2L5_m19ffR",
        "outputId": "427745a9-26b5-4206-b486-6f4ace9b5da2"
      },
      "execution_count": null,
      "outputs": [
        {
          "output_type": "stream",
          "name": "stdout",
          "text": [
            "11 16 12 22 11 21 45 16 27 21\n",
            "('21', '27', '16', '45', '21', '11', '22', '12', '16', '11')\n"
          ]
        }
      ]
    }
  ]
}